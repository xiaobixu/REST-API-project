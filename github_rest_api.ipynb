{
 "cells": [
  {
   "cell_type": "markdown",
   "id": "602898b2",
   "metadata": {},
   "source": [
    "# Preparation"
   ]
  },
  {
   "cell_type": "code",
   "execution_count": 167,
   "id": "19d89ec1",
   "metadata": {},
   "outputs": [],
   "source": [
    "#Import necessary libraries\n",
    "import requests\n",
    "import json\n",
    "\n",
    "import tkinter as tk\n",
    "from tkinter import filedialog, Text\n",
    "import os\n",
    "\n",
    "#Define variable to hold the results\n",
    "results ={}"
   ]
  },
  {
   "cell_type": "code",
   "execution_count": 168,
   "id": "c6129b2d",
   "metadata": {},
   "outputs": [],
   "source": [
    "#Define the function to retrieve each repository's contributor counts, given the owner's name\n",
    "def get_contributor(owner,git_user,git_token):\n",
    "    url = \"https://api.github.com/users/{username}/repos\".format(username =owner)\n",
    "    response = requests.get(url, auth=(git_user,git_token))\n",
    "    repos = response.json()\n",
    "    while 'next' in response.links.keys():\n",
    "        response = requests.get(response.links['next']['url'], auth=(git_user,git_token))\n",
    "        repos.extend(response.json())\n",
    "    repo_contributors = {} #Create dictionary to hold repository and its contributor counts\n",
    "    for item in repos:\n",
    "        contri_url = item[\"contributors_url\"] #Get the url to the contributors' information\n",
    "        contributors = requests.get(contri_url,auth=(git_user,git_token)).json()\n",
    "        repo_contributors[item['name']] = len(contributors)\n",
    "    return repo_contributors\n",
    "\n",
    "def myClick():\n",
    "    T.delete(\"1.0\", tk.END) #Clear the previous results \n",
    "    results = get_contributor(entry_owner.get(),entry_user.get(),entry_token.get())\n",
    "    result = results.items()\n",
    "    T.insert(tk.INSERT, \"Contributor count for each repository:\\n\")\n",
    "    for item in result:\n",
    "        T.insert(tk.INSERT, \"{repo} : {number}\\n\".format(repo=item[0],number=item[1]))\n",
    "    T.insert(tk.END, \"That is all!\")"
   ]
  },
  {
   "cell_type": "code",
   "execution_count": 169,
   "id": "a231dde9",
   "metadata": {},
   "outputs": [],
   "source": [
    "window = tk.Tk()\n",
    "window.title(\"Welcome to GitHub Repository Analysis app!\")\n",
    "\n",
    "#Create label and entry widget for owner input\n",
    "lbl1 =tk.Label(window, text=\"Enter the owner name that you are interested (e.g. PowerShell):\")\n",
    "lbl1.pack()\n",
    "\n",
    "entry_owner = tk.Entry(window, fg=\"black\", bg=\"white\", width=30)\n",
    "entry_owner.pack()\n",
    "\n",
    "#Create label and entry widget for authentication token\n",
    "lbl2 =tk.Label(window, text=\"Enter the username of your own GitHub username:\")\n",
    "lbl2.pack()\n",
    "\n",
    "entry_user = tk.Entry(window, fg=\"black\", bg=\"white\", width=30)\n",
    "entry_user.pack()\n",
    "\n",
    "#Create label and entry widget for username input for authentication use\n",
    "lbl3 =tk.Label(window, text=\"Enter your own token key:\")\n",
    "lbl3.pack() \n",
    "\n",
    "entry_token = tk.Entry(window, fg=\"black\", bg=\"white\", width=100)\n",
    "entry_token.pack()\n",
    "\n",
    "#Create button widget and define size and action\n",
    "btn = tk.Button(window, text=\"Search\", padx=10, pady=5, fg=\"white\", command=myClick)\n",
    "btn.pack()\n",
    "\n",
    "#Create text widget and specify size\n",
    "T = tk.Text(window, height=50, width=50,bg=\"#263D42\")\n",
    "T.pack()\n",
    "\n",
    "window.mainloop()"
   ]
  },
  {
   "cell_type": "code",
   "execution_count": null,
   "id": "95ebc6c2",
   "metadata": {},
   "outputs": [],
   "source": []
  },
  {
   "cell_type": "code",
   "execution_count": null,
   "id": "5d02ca54",
   "metadata": {},
   "outputs": [],
   "source": []
  },
  {
   "cell_type": "code",
   "execution_count": null,
   "id": "3bda2611",
   "metadata": {},
   "outputs": [],
   "source": []
  }
 ],
 "metadata": {
  "kernelspec": {
   "display_name": "Python 3 (ipykernel)",
   "language": "python",
   "name": "python3"
  },
  "language_info": {
   "codemirror_mode": {
    "name": "ipython",
    "version": 3
   },
   "file_extension": ".py",
   "mimetype": "text/x-python",
   "name": "python",
   "nbconvert_exporter": "python",
   "pygments_lexer": "ipython3",
   "version": "3.9.7"
  }
 },
 "nbformat": 4,
 "nbformat_minor": 5
}
