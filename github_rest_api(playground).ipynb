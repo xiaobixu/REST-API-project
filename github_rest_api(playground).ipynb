{
 "cells": [
  {
   "cell_type": "markdown",
   "id": "602898b2",
   "metadata": {},
   "source": [
    "# Preparation\n"
   ]
  },
  {
   "cell_type": "code",
   "execution_count": 1,
   "id": "19d89ec1",
   "metadata": {},
   "outputs": [],
   "source": [
    "#Import necessary libraries\n",
    "import requests\n",
    "import json\n",
    "\n",
    "import tkinter as tk\n",
    "from tkinter import filedialog, Text\n",
    "import os\n",
    "\n",
    "#Define variable to hold the results\n",
    "results ={}"
   ]
  },
  {
   "cell_type": "markdown",
   "id": "executive-problem",
   "metadata": {},
   "source": [
    "# Define funtions"
   ]
  },
  {
   "cell_type": "code",
   "execution_count": 2,
   "id": "c6129b2d",
   "metadata": {},
   "outputs": [],
   "source": [
    "#Define the function to retrieve each repository's contributor counts, given the owner's name\n",
    "def get_contributor(owner,git_user,git_token):\n",
    "    url = \"https://api.github.com/users/{username}/repos\".format(username =owner)\n",
    "    response = requests.get(url, auth=(git_user,git_token))\n",
    "    repos = response.json()\n",
    "    #If there are multiple pages in the respons, iterate through the links\n",
    "    while 'next' in response.links.keys():\n",
    "        response = requests.get(response.links['next']['url'], auth=(git_user,git_token))\n",
    "        repos.extend(response.json()) #Append the page to the previous one\n",
    "    repo_contributors = {} #Create dictionary to hold repository and its contributor counts\n",
    "    #Read the contributor from each repo, and store the number under each repo name\n",
    "    for item in repos:\n",
    "        contri_url = item[\"contributors_url\"] #Get the url to the contributors' information\n",
    "        contributors = requests.get(contri_url,auth=(git_user,git_token)).json()\n",
    "        repo_contributors[item['name']] = len(contributors)\n",
    "    return repo_contributors\n",
    "\n",
    "def myClick():\n",
    "    T.delete(\"1.0\", tk.END) #Clear the previous results\n",
    "    T.insert(tk.INSERT, \"Processing... Please wait :)\\n\") #Adding waiting status\n",
    "    results = get_contributor(entry_owner.get(),entry_user.get(),entry_token.get()) \n",
    "    result = results.items()\n",
    "    T.delete(\"1.0\", tk.END) #Clear the waiting status\n",
    "    T.insert(tk.INSERT, \"Contributor count for each repository:\\n\")\n",
    "    for item in result:\n",
    "        T.insert(tk.INSERT, \"{repo} : {number}\\n\".format(repo=item[0],number=item[1]))\n",
    "    T.insert(tk.END, \"That is all!\")"
   ]
  },
  {
   "cell_type": "markdown",
   "id": "complete-belief",
   "metadata": {},
   "source": [
    "# Create GUI with tkinter"
   ]
  },
  {
   "cell_type": "code",
   "execution_count": 12,
   "id": "a231dde9",
   "metadata": {},
   "outputs": [],
   "source": [
    "#Create main window and the title\n",
    "window = tk.Tk()\n",
    "window.title(\"Welcome to GitHub Repository Analysis app!\")\n",
    "\n",
    "#Create label and entry widget for owner input\n",
    "lbl1 =tk.Label(window, text=\"Enter the owner name that you are interested (e.g. PowerShell):\")\n",
    "lbl1.grid(row=0, column=0)\n",
    "\n",
    "entry_owner = tk.Entry(window, fg=\"black\", bg=\"white\", width=80)\n",
    "entry_owner.grid(row=0, column=1)\n",
    "\n",
    "#Create label and entry widget for authentication token\n",
    "lbl2 =tk.Label(window, text=\"Enter your own GitHub username for authentication:\")\n",
    "lbl2.grid(row=1, column=0)\n",
    "\n",
    "entry_user = tk.Entry(window, fg=\"black\", bg=\"white\", width=80)\n",
    "entry_user.grid(row=1,column=1)\n",
    "\n",
    "#Create label and entry widget for username input for authentication use\n",
    "lbl3 =tk.Label(window, text=\"Enter your own git token key:\")\n",
    "lbl3.grid(row=2, column=0) \n",
    "\n",
    "entry_token = tk.Entry(window, fg=\"black\", bg=\"white\", width=80)\n",
    "entry_token.grid(row=2, column=1)\n",
    "\n",
    "#Create Search button widget and define size and action\n",
    "btn = tk.Button(window, text=\"Search\", padx=10, pady=5, fg=\"white\", command=myClick)\n",
    "btn.grid(row=3, columnspan=2)\n",
    "\n",
    "#Create text widget and specify size\n",
    "T = tk.Text(window, height=50, width=50, bg=\"#263D42\", fg=\"white\")\n",
    "T.grid(row=4, columnspan=2)\n",
    "\n",
    "window.mainloop()"
   ]
  }
 ],
 "metadata": {
  "kernelspec": {
   "display_name": "Python 3",
   "language": "python",
   "name": "python3"
  },
  "language_info": {
   "codemirror_mode": {
    "name": "ipython",
    "version": 3
   },
   "file_extension": ".py",
   "mimetype": "text/x-python",
   "name": "python",
   "nbconvert_exporter": "python",
   "pygments_lexer": "ipython3",
   "version": "3.7.4"
  }
 },
 "nbformat": 4,
 "nbformat_minor": 5
}
